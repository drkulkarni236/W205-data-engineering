{
 "cells": [
  {
   "cell_type": "markdown",
   "id": "1af0df61",
   "metadata": {},
   "source": [
    "# Project 1  Report\n",
    "#### Author: Devashish Kulkarni"
   ]
  },
  {
   "cell_type": "code",
   "execution_count": 18,
   "id": "94ced241",
   "metadata": {},
   "outputs": [
    {
     "data": {
      "text/html": [
       "<style>\n",
       "    table {\n",
       "        display: inline-block\n",
       "    }\n",
       "</style>\n",
       "# code to left align tables\n"
      ],
      "text/plain": [
       "<IPython.core.display.HTML object>"
      ]
     },
     "metadata": {},
     "output_type": "display_data"
    }
   ],
   "source": [
    "%%html\n",
    "<style>\n",
    "    table {\n",
    "        display: inline-block\n",
    "    }\n",
    "</style>\n",
    "# code to left align tables"
   ]
  },
  {
   "cell_type": "markdown",
   "id": "5c2d3a0c",
   "metadata": {},
   "source": [
    "## Part 1\n",
    "\n",
    "### Initial Queries\n",
    "\n",
    "- **1: Question: What is the size of this data set?(i.e. how many trips?)**\n",
    "  - Answer: 983648 total trips\n",
    "  - Query: \n",
    "  ```sql\n",
    "    select count(trip_id) \n",
    "    from  `bigquery-public-data.san_francisco.bikeshare_trips`;\n",
    "  ```\n",
    "  - Output:\n",
    "  \n",
    "  \n",
    "    | Row | f0_    |\n",
    "    |-----|--------|\n",
    "    | 1   | 983648 |\n",
    "  \n",
    "  \n",
    "  <br />\n",
    "  \n",
    "- **2:  Question: What is the earliest start date and time and latest end date and time for a trip?**\n",
    "    \n",
    "  - Answer: Earliest start date and time is 2013-08-29 09:08:00 PST, and latest end date and time is 2016-08-31 23:48:00 PST. The time zone is specified as UTC in the data set, but is actually PST based on other exploration.\n",
    "  - Query: \n",
    "  ```sql\n",
    "    select min(start_date), max(end_date)\n",
    "    from `bigquery-public-data.san_francisco.bikeshare_trips`;\n",
    "  ```\n",
    "  - Output:\n",
    "  \n",
    "  \n",
    "    | f0_                     | f1_                     |\n",
    "    | ----------------------- | ----------------------- |\n",
    "    | 2013-08-29 09:08:00 UTC | 2016-08-31 23:48:00 UTC |\n",
    "  \n",
    "  <br />\n",
    "- **3:  Question: How many bikes are there?**\n",
    "  - Answer: 700 bikes\n",
    "  - Query: \n",
    "  ```sql\n",
    "    select count(distinct bike_number)\n",
    "    from `bigquery-public-data.san_francisco.bikeshare_trips`;\n",
    "  ```\n",
    "  - Output:\n",
    "  \n",
    "  \n",
    "    | f0_ |\n",
    "    | --- |\n",
    "    | 700 |\n",
    "  \n",
    "  \n",
    "  \n",
    " <br />\n",
    " \n",
    "### Additional Questions\n",
    "\n",
    "- **1: Question: How do trip frequencies differ between weekends and weekdays?**\n",
    "  - Answer: 871994 trips on weekdays and 111654 trips on weekends\n",
    "  - Query: \n",
    "  ```sql\n",
    "    Select count(*), day_of_week from (\n",
    "    Select \n",
    "    case when(dow=1 or dow=7) then 'Weekend'\n",
    "     when(dow >=2 and dow<=6) then 'Weekday'\n",
    "     end as day_of_week\n",
    "    from\n",
    "    (Select\n",
    "    EXTRACT(DAYOFWEEK FROM start_date) as dow,\n",
    "    from `bigquery-public-data.san_francisco.bikeshare_trips`)t)\n",
    "    group by day_of_week\n",
    "  ```\n",
    "  - Output:\n",
    "  \n",
    "  \n",
    "    | f0_    | day_of_week |\n",
    "    | ------ | ----------- |\n",
    "    | 871994 | Weekday     |\n",
    "    | 111654 | Weekend     |\n",
    "  \n",
    "  <br />\n",
    "\n",
    "\n",
    "- **2: Question: What kind of customers use bike share for commuter trips?**\n",
    "    - Answer: Commuter trip is defined as a trip on a weekday that starts and ends between 6 AM and 10 AM or between 4 PM and 7 PM and has different start and end stations. For all such trips, 601275 are made by subscribers and 31446 are made by customers.\n",
    "    - Query:\n",
    "    ```sql\n",
    "    Select count(*) as count_sub, subscriber_type from(\n",
    "SELECT start_station_id, end_station_id, subscriber_type,\n",
    "EXTRACT(HOUR FROM start_date) as hour_start,\n",
    "EXTRACT(HOUR FROM end_date) as hour_end,\n",
    "EXTRACT(DAYOFWEEK FROM start_date) as dow,\n",
    "from `bigquery-public-data.san_francisco.bikeshare_trips`)t\n",
    "where ((hour_start>=6 and hour_start<=10 and hour_end>=6 and hour_end<=10) \n",
    "or (hour_start>=16 and hour_start<=19 and hour_end>=16 and hour_end<=19))\n",
    "and not dow=1 and not dow=7\n",
    "and not start_station_id=end_station_id\n",
    "group by subscriber_type;\n",
    "    ```\n",
    "    - Output:\n",
    "    \n",
    "    \n",
    "      | count_sub | subscriber_type |\n",
    "      | --------- | --------------- |\n",
    "      | 601275    | Subscriber      |\n",
    "      | 31446     | Customer        |\n",
    "\n",
    "<br />\n",
    "\n",
    "- **3: Question: What are the 5 most popular pair of start and end station for a commuter trip?**\n",
    "    - Answer: The most popular stations for commuter trips are shown below. Harry Bridges Plaza (Ferry Building) seems like the station where many the commuter trips start or end.\n",
    "    - Query:\n",
    "    ```sql\n",
    "    select count(*) as count_station_pair, station_pair from (\n",
    "SELECT start_station_id, end_station_id, \n",
    "start_station_name, end_station_name, \n",
    "concat(start_station_id, '-', end_station_id , ' (', start_station_name , ' -> ', end_station_name ,')') as station_pair,\n",
    "EXTRACT(HOUR FROM start_date) as hour_start,\n",
    "EXTRACT(HOUR FROM end_date) as hour_end,\n",
    "EXTRACT(DAYOFWEEK FROM start_date) as dow,\n",
    "from `bigquery-public-data.san_francisco.bikeshare_trips`)t \n",
    "where ((hour_start>=6 and hour_start<=10 and hour_end>=6 and hour_end<=10) \n",
    "or (hour_start>=16 and hour_start<=19 and hour_end>=16 and hour_end<=19))\n",
    "and not dow=1 and not dow=7\n",
    "and not start_station_id=end_station_id\n",
    "group by station_pair\n",
    "order by count_station_pair desc limit 5;\n",
    "    ```\n",
    "    - Output:\n",
    "    \n",
    "    \n",
    "      | count_station_pair | station_pair                                                                             |\n",
    "      | ------------------ | ---------------------------------------------------------------------------------------- |\n",
    "      | 6252               | 69-65 (San Francisco Caltrain 2 (330 Townsend) -> Townsend at 7th)                       |\n",
    "      | 5608               | 50-61 (Harry Bridges Plaza (Ferry Building) -> 2nd at Townsend)                          |\n",
    "      | 5421               | 61-50 (2nd at Townsend -> Harry Bridges Plaza (Ferry Building))                          |\n",
    "      | 5186               | 60-74 (Embarcadero at Sansome -> Steuart at Market)                                      |\n",
    "      | 5150               | 70-50 (San Francisco Caltrain (Townsend at 4th) -> Harry Bridges Plaza (Ferry Building)) |\n",
    "\n",
    "<br />\n",
    "\n",
    "\n",
    "\n"
   ]
  },
  {
   "cell_type": "markdown",
   "id": "756eed9d",
   "metadata": {},
   "source": [
    "## Part 2\n",
    "\n",
    "### Initial Queries\n",
    "\n",
    "\n",
    "- **1: Question: What is the size of this data set?(i.e. how many trips?)**\n",
    "  - Answer: 983648 total trips\n",
    "  - Query: \n",
    "    ```\n",
    "    bq query --use_legacy_sql=false 'select count(trip_id) from  `bigquery-public-data.san_francisco.bikeshare_trips`;'\n",
    "    ```\n",
    "  - Output:\n",
    " \n",
    " \n",
    "    +--------+\n",
    "    |  f0_   |\n",
    "    +--------+\n",
    "    | 983648 |\n",
    "    +--------+\n",
    "  \n",
    "  \n",
    "  <br />\n",
    "  \n",
    "- **2:  Question: What is the earliest start date and time and latest end date and time for a trip?**\n",
    "    \n",
    "  - Answer: Earliest start date and time is 2013-08-29 09:08:00 PST, and latest end date and time is 2016-08-31 23:48:00 PST. The time zone is specified as UTC in the data set, but is actually PST based on other exploration.\n",
    "  - Query: \n",
    "  ```\n",
    "  bq query --use_legacy_sql=false 'select min(start_date), max(end_date)\n",
    "    from `bigquery-public-data.san_francisco.bikeshare_trips`;'\n",
    "  ```\n",
    "  - Output:\n",
    "  \n",
    "  \n",
    "    +---------------------+---------------------+\n",
    "    |         f0_         |         f1_         |\n",
    "    +---------------------+---------------------+\n",
    "    | 2013-08-29 09:08:00 | 2016-08-31 23:48:00 |\n",
    "    +---------------------+---------------------+\n",
    "  \n",
    "  <br />\n",
    "  \n",
    "- **3:  Question: How many bikes are there?**\n",
    "  - Answer: 700 bikes\n",
    "  - Query: \n",
    "  ```\n",
    "    bq query -use_legacy_sql=false 'select count(distinct bike_number)\n",
    "     from `bigquery-public-data.san_francisco.bikeshare_trips`;'\n",
    "  ```\n",
    "  - Output:\n",
    "  \n",
    "    \n",
    "    +-----+\n",
    "    | f0_ |\n",
    "    +-----+\n",
    "    | 700 |\n",
    "    +-----+\n",
    "    \n",
    " <br />\n",
    "     \n",
    "### New Query\n",
    "\n",
    "- **1:  Question: How many trips are in the morning vs in the afternoon?**\n",
    "    \n",
    "  - Answer: Morning trips are defined as trips that start between 6 AM to 12 noon and afternoon trips are defined as trips that start between 12 noon to 6 PM. There are 475768 trips in the afternoon and 399821 trips in the monring.\n",
    "  - Query: \n",
    "  ```\n",
    "  bq query --use_legacy_sql=false 'select count(*), Time_of_day from (                                                                                   \n",
    "    SELECT                                                                               \n",
    "    case when (hour_start>=12 and hour_start <=18) then \"Afternoon\"\n",
    "        when (hour_start>=6 and hour_start <=12) then \"Morning\"\n",
    "        end as Time_of_day,\n",
    "    from\n",
    "    (SELECT \n",
    "    EXTRACT(HOUR FROM start_date) as hour_start, \n",
    "    from `bigquery-public-data.san_francisco.bikeshare_trips`)t\n",
    "    )\n",
    "    where Time_of_day is not Null\n",
    "    group by Time_of_day;\n",
    "    '\n",
    "  ```\n",
    "  - Output:\n",
    "  \n",
    "  \n",
    "    +--------+-------------+\n",
    "    |  f0_   | Time_of_day |\n",
    "    +--------+-------------+\n",
    "    | 475768 | Afternoon   |\n",
    "    | 399821 | Morning     |\n",
    "    +--------+-------------+\n",
    "  \n",
    "  <br />\n",
    "  \n"
   ]
  },
  {
   "cell_type": "markdown",
   "id": "6a0dc05f",
   "metadata": {},
   "source": [
    "### Project Questions\n",
    "\n",
    "- **Question 1: What stations have the longest average trip duration and how many trips start from these stations?**\n",
    "\n",
    "- **Question 2: Which stations have the highest number of trips starting from these and how many trips have started from these and what is the average duration of these trips?**\n",
    "\n",
    "- **Question 3: How do weekend trips vary across different months of the year?**\n",
    "\n",
    "- **Question 4: How do *commuter* trips vary across different months of the year?**\n",
    "\n",
    "- **Question 5: How does bikes available change on the most popular commuting station (station 50 - Harry Bridges Plaza (Ferry Building) as we saw earlier) during an average weekday?**\n",
    "\n",
    "- **Question 6: What is the average trips per month from newer bike stations versus older bike stations**\n",
    "\n",
    "\n",
    "### Answers\n",
    "\n",
    "- **Question 1: What stations have the longest average trip duration and how many trips are from these stations?**\n",
    "    - Answer: The longest trips on average are from stations 35, 36, 33, 26 and 24. These trips are more than an hour long and particularly stations 35, 36 and 33 do have a significant number of trips.\n",
    "    - Query:\n",
    "    ```sql\n",
    "    select round(trip_duration, 2), start_station, number_of_trips from (\n",
    "    select avg(duration_sec) as trip_duration,  concat(start_station_id, ' - ', start_station_name) as start_station, count(start_station_id) as number_of_trips\n",
    "    from `bigquery-public-data.san_francisco.bikeshare_trips`\n",
    "    group by start_station\n",
    "    order by trip_duration desc limit 5);\n",
    "    ```\n",
    "    - Output:\n",
    "    \n",
    "    \n",
    "        | f0_     | start_station                              | number_of_trips |\n",
    "        | ------- | ------------------------------------------ | --------------- |\n",
    "        | 6455.08 | 35 - University and Emerson                | 2002            |\n",
    "        | 4079.57 | 36 - California Ave Caltrain Station       | 1418            |\n",
    "        | 4044.23 | 33 - Rengstorff Avenue / California Street | 1171            |\n",
    "        | 3904.28 | 26 - Redwood City Medical Center           | 316             |\n",
    "        | 3846.24 | 24 - Redwood City Public Library           | 272             |\n",
    "<br />\n",
    "\n",
    "\n",
    "- **Question 2: Which stations have the highest number of trips starting from these and how many trips have started from these and what is the average duration of these trips?**\n",
    "    - Answer: The stations with the highest number of trips look like the stations that are popular with commuters. The number of trips from these is much more than the stations we saw in question 1 above, but the duration of these trips is much smaller, ~10-20 mins.\n",
    "    - Query:\n",
    "    ```sql\n",
    "    select round(trip_duration, 2), start_station, number_of_trips from (\n",
    "    select avg(duration_sec) as trip_duration,  concat(start_station_id, ' - ', start_station_name) as start_station, count(start_station_id) as number_of_trips\n",
    "    from `bigquery-public-data.san_francisco.bikeshare_trips`\n",
    "    group by start_station\n",
    "    order by number_of_trips desc limit 5);\n",
    "    ```\n",
    "    - Output:\n",
    "    \n",
    "    \n",
    "        | f0_     | start_station                                 | number_of_trips |\n",
    "        | ------- | --------------------------------------------- | --------------- |\n",
    "        | 804.85  | 70 - San Francisco Caltrain (Townsend at 4th) | 72683           |\n",
    "        | 681.09  | 69 - San Francisco Caltrain 2 (330 Townsend)  | 56100           |\n",
    "        | 1364.43 | 50 - Harry Bridges Plaza (Ferry Building)     | 49062           |\n",
    "        | 1327.72 | 60 - Embarcadero at Sansome                   | 41137           |\n",
    "        | 749.08  | 61 - 2nd at Townsend                          | 39936           |\n",
    " <br />\n",
    " \n",
    " \n",
    " - **Question 3: How do weekend trips vary across different months of the year?**\n",
    "    - Answer: It looks like the colder winter months tend to have the fewest weekend trips and late summer/fall months tend to have the highest number of weekend trips by almost 2x.\n",
    "    - Query:\n",
    "    ```sql\n",
    "   select count(*) as count_trips, month from \n",
    "(Select\n",
    "EXTRACT(DAYOFWEEK FROM start_date) as dow,\n",
    "EXTRACT(MONTH from start_date) as month,\n",
    "from `bigquery-public-data.san_francisco.bikeshare_trips`)t\n",
    "where (dow=1 or dow=7)\n",
    "group by month\n",
    "order by count_trips desc;\n",
    "    ```\n",
    "    - Output:\n",
    "    \n",
    "    \n",
    "        | count_trips | month |\n",
    "        | ----------- | ----- |\n",
    "        | 11780       | 9     |\n",
    "        | 11763       | 8     |\n",
    "        | 10891       | 10    |\n",
    "        | 10044       | 5     |\n",
    "        | 9557        | 11    |\n",
    "        | 9505        | 6     |\n",
    "        | 9388        | 7     |\n",
    "        | 8844        | 3     |\n",
    "        | 8333        | 4     |\n",
    "        | 7563        | 1     |\n",
    "        | 7394        | 2     |\n",
    "        | 6592        | 12    |\n",
    " <br />\n",
    " \n",
    " \n",
    " - **Question 4: How do *commuter* trips vary across different months of the year?**\n",
    "    - Answer: For the commuter trips also, the winter months tend to have the fewwest trips by alomost 50% than the max number of trips in late summer/fall.\n",
    "    - Query:\n",
    "    ```sql\n",
    "   select count(*) as count_month, month from (\n",
    "select start_station_id, end_station_id,\n",
    "EXTRACT(HOUR FROM start_date) as hour_start,\n",
    "EXTRACT(HOUR FROM end_date) as hour_end,\n",
    "EXTRACT(DAYOFWEEK FROM start_date) as dow,\n",
    "EXTRACT(MONTH FROM start_date) as month,\n",
    "from `bigquery-public-data.san_francisco.bikeshare_trips`)t\n",
    "where ((hour_start>=6 and hour_start<=10 and hour_end>=6 and hour_end<=10) \n",
    "or (hour_start>=16 and hour_start<=19 and hour_end>=16 and hour_end<=19))\n",
    "and not dow=1 and not dow=7\n",
    "and not start_station_id=end_station_id\n",
    "group by month\n",
    "order by count_month desc;\n",
    "    ```\n",
    "    - Output:\n",
    "    \n",
    "    \n",
    "        | count_month | month |\n",
    "        | ----------- | ----- |\n",
    "        | 61876       | 8     |\n",
    "        | 61150       | 6     |\n",
    "        | 59098       | 10    |\n",
    "        | 58682       | 7     |\n",
    "        | 56199       | 4     |\n",
    "        | 56149       | 5     |\n",
    "        | 53416       | 3     |\n",
    "        | 52197       | 9     |\n",
    "        | 46814       | 1     |\n",
    "        | 45869       | 2     |\n",
    "        | 45286       | 11    |\n",
    "        | 35985       | 12    |\n",
    " <br />\n",
    " \n",
    "  - **Question 5: How does bikes available change on the most popular commuting station (station 50 - Harry Bridges Plaza (Ferry Building) as we saw earlier) during an average weekday?**\n",
    "    - Answer: Looks like there are on average, bikes are alwyas avaialble even during the day, when we expect the station to be busy with commuters. This data also reinforces the fact that the times are in PST and not UTC as the time output shows.\n",
    "    - Query:\n",
    "    ```sql\n",
    "   select round(bikes_availability, 2) as bikes, hour from (\n",
    "select avg(bikes_available) as bikes_availability, hour, from (\n",
    "select bikes_available, station_id,\n",
    "EXTRACT(HOUR from time) as hour,\n",
    "EXTRACT(DAYOFWEEK from time) as dow\n",
    "from `bigquery-public-data.san_francisco.bikeshare_status`)t\n",
    "where station_id=50\n",
    "and (not dow = 1 and not dow=7)\n",
    "group by hour\n",
    "order by hour);\n",
    "    ```\n",
    "    - Output:\n",
    "    \n",
    "\n",
    "        | bikes | hour |\n",
    "        | ----- | ---- |\n",
    "        | 16.51 | 0    |\n",
    "        | 16.5  | 1    |\n",
    "        | 16.49 | 2    |\n",
    "        | 16.49 | 3    |\n",
    "        | 16.48 | 4    |\n",
    "        | 16.49 | 5    |\n",
    "        | 15.98 | 6    |\n",
    "        | 14.82 | 7    |\n",
    "        | 10.52 | 8    |\n",
    "        | 6.62  | 9    |\n",
    "        | 6.58  | 10   |\n",
    "        | 7.05  | 11   |\n",
    "        | 8.11  | 12   |\n",
    "        | 8.47  | 13   |\n",
    "        | 8.35  | 14   |\n",
    "        | 7.79  | 15   |\n",
    "        | 8.83  | 16   |\n",
    "        | 15.23 | 17   |\n",
    "        | 17.62 | 18   |\n",
    "        | 17.41 | 19   |\n",
    "        | 16.99 | 20   |\n",
    "        | 16.72 | 21   |\n",
    "        | 16.47 | 22   |\n",
    "        | 16.37 | 23   |\n",
    " <br />\n",
    " \n",
    " \n",
    "   - **Question 6: Which 5 start stations are most common with Subscribers and Customers?**\n",
    "     - Answer: The most common start stations for subscribers and customers are not the same. There might be opportunities to convert customers to subscribers at the stations most used by customers.\n",
    "     - Query: \n",
    "     \n",
    "     - For Subscribers:\n",
    "     \n",
    "     ```sql \n",
    "     select concat(start_station_id, ' - ', start_station_name) as start_station, count(start_station_id) as number_of_trips\n",
    "from `bigquery-public-data.san_francisco.bikeshare_trips`\n",
    "where subscriber_type='Subscriber'\n",
    "group by start_station \n",
    "order by number_of_trips desc limit 5;\n",
    "       ```\n",
    "   \n",
    "     - For Customers:\n",
    "      \n",
    "     ```sql        \n",
    "     select concat(start_station_id, ' - ', start_station_name) as start_station, count(start_station_id) as number_of_trips\n",
    "    from `bigquery-public-data.san_francisco.bikeshare_trips`\n",
    "    where subscriber_type='Subscriber'\n",
    "    group by start_station \n",
    "    order by number_of_trips desc limit 5;\n",
    "        ``` \n",
    "\n",
    "       \n",
    "   \n",
    "     - Output:  For Subscribers\n",
    "           \n",
    "      \n",
    "        | start_station                                      | number_of_trips |\n",
    "        | -------------------------------------------------- | --------------- |\n",
    "        | 70 - San Francisco Caltrain (Townsend at 4th)      | 68384           |\n",
    "        | 69 - San Francisco Caltrain 2 (330 Townsend)       | 53694           |\n",
    "        | 55 - Temporary Transbay Terminal (Howard at Beale) | 37888           |\n",
    "        | 50 - Harry Bridges Plaza (Ferry Building)          | 36621           |\n",
    "        | 61 - 2nd at Townsend                               | 35500           |\n",
    "   \n",
    "     - Output:  For Customers\n",
    "           \n",
    "      \n",
    "        | start_station                             | number_of_trips |\n",
    "        | ----------------------------------------- | --------------- |\n",
    "        | 60 - Embarcadero at Sansome               | 13934           |\n",
    "        | 50 - Harry Bridges Plaza (Ferry Building) | 12441           |\n",
    "        | 76 - Market at 4th                        | 5952            |\n",
    "        | 39 - Powell Street BART                   | 5214            |\n",
    "        | 48 - Embarcadero at Vallejo               | 4945            |\n",
    " <br />"
   ]
  },
  {
   "cell_type": "markdown",
   "id": "7907234b",
   "metadata": {},
   "source": [
    "## Part 3"
   ]
  },
  {
   "cell_type": "code",
   "execution_count": 70,
   "id": "7ef2d33b",
   "metadata": {},
   "outputs": [],
   "source": [
    "import pandas as pd\n",
    "import matplotlib.pyplot as plt\n",
    "import calendar\n",
    "%matplotlib inline"
   ]
  },
  {
   "cell_type": "code",
   "execution_count": 31,
   "id": "57a94da0",
   "metadata": {},
   "outputs": [],
   "source": [
    "pd.set_option('display.max_colwidth', None)"
   ]
  },
  {
   "cell_type": "code",
   "execution_count": 34,
   "id": "2bf8b6c6",
   "metadata": {},
   "outputs": [
    {
     "name": "stderr",
     "output_type": "stream",
     "text": [
      "Query complete after 0.00s: 100%|██████████| 1/1 [00:00<00:00, 385.08query/s] \n",
      "Downloading: 100%|██████████| 5/5 [00:01<00:00,  4.43rows/s]\n"
     ]
    }
   ],
   "source": [
    "%%bigquery top_5_commuter_trips\n",
    "\n",
    "select count(*) as count_station_pair, station_pair from (\n",
    "SELECT start_station_id, end_station_id, \n",
    "start_station_name, end_station_name, \n",
    "concat(start_station_id, '-', end_station_id , ' (', start_station_name , ' -> ', end_station_name ,')') as station_pair,\n",
    "EXTRACT(HOUR FROM start_date) as hour_start,\n",
    "EXTRACT(HOUR FROM end_date) as hour_end,\n",
    "EXTRACT(DAYOFWEEK FROM start_date) as dow,\n",
    "from `bigquery-public-data.san_francisco.bikeshare_trips`)t \n",
    "where ((hour_start>=6 and hour_start<=10 and hour_end>=6 and hour_end<=10) \n",
    "or (hour_start>=16 and hour_start<=19 and hour_end>=16 and hour_end<=19))\n",
    "and not dow=1 and not dow=7\n",
    "and not start_station_id=end_station_id\n",
    "group by station_pair\n",
    "order by count_station_pair desc limit 5;"
   ]
  },
  {
   "cell_type": "code",
   "execution_count": 35,
   "id": "8ee8578b",
   "metadata": {},
   "outputs": [
    {
     "data": {
      "text/html": [
       "<div>\n",
       "<style scoped>\n",
       "    .dataframe tbody tr th:only-of-type {\n",
       "        vertical-align: middle;\n",
       "    }\n",
       "\n",
       "    .dataframe tbody tr th {\n",
       "        vertical-align: top;\n",
       "    }\n",
       "\n",
       "    .dataframe thead th {\n",
       "        text-align: right;\n",
       "    }\n",
       "</style>\n",
       "<table border=\"1\" class=\"dataframe\">\n",
       "  <thead>\n",
       "    <tr style=\"text-align: right;\">\n",
       "      <th></th>\n",
       "      <th>count_station_pair</th>\n",
       "      <th>station_pair</th>\n",
       "    </tr>\n",
       "  </thead>\n",
       "  <tbody>\n",
       "    <tr>\n",
       "      <th>0</th>\n",
       "      <td>6252</td>\n",
       "      <td>69-65 (San Francisco Caltrain 2 (330 Townsend) -&gt; Townsend at 7th)</td>\n",
       "    </tr>\n",
       "    <tr>\n",
       "      <th>1</th>\n",
       "      <td>5608</td>\n",
       "      <td>50-61 (Harry Bridges Plaza (Ferry Building) -&gt; 2nd at Townsend)</td>\n",
       "    </tr>\n",
       "    <tr>\n",
       "      <th>2</th>\n",
       "      <td>5421</td>\n",
       "      <td>61-50 (2nd at Townsend -&gt; Harry Bridges Plaza (Ferry Building))</td>\n",
       "    </tr>\n",
       "    <tr>\n",
       "      <th>3</th>\n",
       "      <td>5186</td>\n",
       "      <td>60-74 (Embarcadero at Sansome -&gt; Steuart at Market)</td>\n",
       "    </tr>\n",
       "    <tr>\n",
       "      <th>4</th>\n",
       "      <td>5150</td>\n",
       "      <td>70-50 (San Francisco Caltrain (Townsend at 4th) -&gt; Harry Bridges Plaza (Ferry Building))</td>\n",
       "    </tr>\n",
       "  </tbody>\n",
       "</table>\n",
       "</div>"
      ],
      "text/plain": [
       "   count_station_pair  \\\n",
       "0                6252   \n",
       "1                5608   \n",
       "2                5421   \n",
       "3                5186   \n",
       "4                5150   \n",
       "\n",
       "                                                                               station_pair  \n",
       "0                        69-65 (San Francisco Caltrain 2 (330 Townsend) -> Townsend at 7th)  \n",
       "1                           50-61 (Harry Bridges Plaza (Ferry Building) -> 2nd at Townsend)  \n",
       "2                           61-50 (2nd at Townsend -> Harry Bridges Plaza (Ferry Building))  \n",
       "3                                       60-74 (Embarcadero at Sansome -> Steuart at Market)  \n",
       "4  70-50 (San Francisco Caltrain (Townsend at 4th) -> Harry Bridges Plaza (Ferry Building))  "
      ]
     },
     "execution_count": 35,
     "metadata": {},
     "output_type": "execute_result"
    }
   ],
   "source": [
    "top_5_commuter_trips #Showing the top 5 commuter trips"
   ]
  },
  {
   "cell_type": "code",
   "execution_count": 38,
   "id": "abf5da32",
   "metadata": {},
   "outputs": [
    {
     "name": "stderr",
     "output_type": "stream",
     "text": [
      "Query complete after 0.00s: 100%|██████████| 1/1 [00:00<00:00, 317.34query/s] \n",
      "Downloading: 100%|██████████| 2/2 [00:01<00:00,  1.74rows/s]\n"
     ]
    }
   ],
   "source": [
    "%%bigquery commuter_user_types\n",
    "\n",
    "Select count(*) as count_sub, subscriber_type from(\n",
    "SELECT start_station_id, end_station_id, subscriber_type,\n",
    "EXTRACT(HOUR FROM start_date) as hour_start,\n",
    "EXTRACT(HOUR FROM end_date) as hour_end,\n",
    "EXTRACT(DAYOFWEEK FROM start_date) as dow,\n",
    "from `bigquery-public-data.san_francisco.bikeshare_trips`)t\n",
    "where ((hour_start>=6 and hour_start<=10 and hour_end>=6 and hour_end<=10) \n",
    "or (hour_start>=16 and hour_start<=19 and hour_end>=16 and hour_end<=19))\n",
    "and not dow=1 and not dow=7\n",
    "and not start_station_id=end_station_id\n",
    "group by subscriber_type;"
   ]
  },
  {
   "cell_type": "code",
   "execution_count": 39,
   "id": "d4627391",
   "metadata": {},
   "outputs": [
    {
     "data": {
      "text/html": [
       "<div>\n",
       "<style scoped>\n",
       "    .dataframe tbody tr th:only-of-type {\n",
       "        vertical-align: middle;\n",
       "    }\n",
       "\n",
       "    .dataframe tbody tr th {\n",
       "        vertical-align: top;\n",
       "    }\n",
       "\n",
       "    .dataframe thead th {\n",
       "        text-align: right;\n",
       "    }\n",
       "</style>\n",
       "<table border=\"1\" class=\"dataframe\">\n",
       "  <thead>\n",
       "    <tr style=\"text-align: right;\">\n",
       "      <th></th>\n",
       "      <th>count_sub</th>\n",
       "      <th>subscriber_type</th>\n",
       "    </tr>\n",
       "  </thead>\n",
       "  <tbody>\n",
       "    <tr>\n",
       "      <th>0</th>\n",
       "      <td>601275</td>\n",
       "      <td>Subscriber</td>\n",
       "    </tr>\n",
       "    <tr>\n",
       "      <th>1</th>\n",
       "      <td>31446</td>\n",
       "      <td>Customer</td>\n",
       "    </tr>\n",
       "  </tbody>\n",
       "</table>\n",
       "</div>"
      ],
      "text/plain": [
       "   count_sub subscriber_type\n",
       "0     601275      Subscriber\n",
       "1      31446        Customer"
      ]
     },
     "execution_count": 39,
     "metadata": {},
     "output_type": "execute_result"
    }
   ],
   "source": [
    "commuter_user_types #Showing the types of users that user bike share for commuter trips"
   ]
  },
  {
   "cell_type": "code",
   "execution_count": 55,
   "id": "24bb9b1f",
   "metadata": {},
   "outputs": [
    {
     "name": "stderr",
     "output_type": "stream",
     "text": [
      "Query complete after 0.00s: 100%|██████████| 3/3 [00:00<00:00, 1046.05query/s]                        \n",
      "Downloading: 100%|██████████| 84/84 [00:01<00:00, 60.82rows/s]\n"
     ]
    }
   ],
   "source": [
    "%%bigquery trip_duration\n",
    "\n",
    "select round(trip_duration, 2) as duration, start_station, number_of_trips from (\n",
    "select avg(duration_sec) as trip_duration,  concat(start_station_id, ' - ', start_station_name) as start_station, count(start_station_id) as number_of_trips\n",
    "from `bigquery-public-data.san_francisco.bikeshare_trips`\n",
    "group by start_station\n",
    "order by trip_duration desc);"
   ]
  },
  {
   "cell_type": "code",
   "execution_count": 61,
   "id": "4095a65d",
   "metadata": {},
   "outputs": [
    {
     "data": {
      "text/plain": [
       "Text(0.5, 1.0, 'Number of trips vs average trip duration for stations')"
      ]
     },
     "execution_count": 61,
     "metadata": {},
     "output_type": "execute_result"
    },
    {
     "data": {
      "image/png": "[encoded data removed]",
      "text/plain": [
       "<Figure size 432x288 with 1 Axes>"
      ]
     },
     "metadata": {
      "needs_background": "light"
     },
     "output_type": "display_data"
    }
   ],
   "source": [
    "plt.scatter(trip_duration['duration'], trip_duration['number_of_trips'])\n",
    "plt.xlabel('Avg trip duration (s)')\n",
    "plt.ylabel('Number of trips')\n",
    "plt.title('Number of trips vs average trip duration for stations')"
   ]
  },
  {
   "cell_type": "code",
   "execution_count": 73,
   "id": "0a038c7f",
   "metadata": {},
   "outputs": [
    {
     "name": "stderr",
     "output_type": "stream",
     "text": [
      "Query complete after 0.00s: 100%|██████████| 3/3 [00:00<00:00, 1442.33query/s]                        \n",
      "Downloading: 100%|██████████| 12/12 [00:02<00:00,  4.06rows/s]\n"
     ]
    }
   ],
   "source": [
    "%%bigquery commuter_trips_by_month\n",
    "\n",
    "select count(*) as count_month, month from (\n",
    "select start_station_id, end_station_id,\n",
    "EXTRACT(HOUR FROM start_date) as hour_start,\n",
    "EXTRACT(HOUR FROM end_date) as hour_end,\n",
    "EXTRACT(DAYOFWEEK FROM start_date) as dow,\n",
    "EXTRACT(MONTH FROM start_date) as month,\n",
    "from `bigquery-public-data.san_francisco.bikeshare_trips`)t\n",
    "where ((hour_start>=6 and hour_start<=10 and hour_end>=6 and hour_end<=10) \n",
    "or (hour_start>=16 and hour_start<=19 and hour_end>=16 and hour_end<=19))\n",
    "and not dow=1 and not dow=7\n",
    "and not start_station_id=end_station_id\n",
    "group by month\n",
    "order by month;"
   ]
  },
  {
   "cell_type": "code",
   "execution_count": 76,
   "id": "db3e8107",
   "metadata": {},
   "outputs": [
    {
     "data": {
      "text/plain": [
       "Text(0.5, 1.0, 'Number of commuter trips by month')"
      ]
     },
     "execution_count": 76,
     "metadata": {},
     "output_type": "execute_result"
    },
    {
     "data": {
      "image/png": "[encoded data removed]",
      "text/plain": [
       "<Figure size 432x288 with 1 Axes>"
      ]
     },
     "metadata": {
      "needs_background": "light"
     },
     "output_type": "display_data"
    }
   ],
   "source": [
    "commuter_trips_by_month['Month_name'] = commuter_trips_by_month['month'].apply(lambda x: calendar.month_abbr[x])\n",
    "plt.bar(commuter_trips_by_month['Month_name'], commuter_trips_by_month['count_month'])\n",
    "plt.xlabel('Month')\n",
    "plt.ylabel('Number of trips')\n",
    "plt.title('Number of commuter trips by month')"
   ]
  },
  {
   "cell_type": "code",
   "execution_count": 77,
   "id": "005f3986",
   "metadata": {},
   "outputs": [
    {
     "name": "stderr",
     "output_type": "stream",
     "text": [
      "Query complete after 0.00s: 100%|██████████| 3/3 [00:00<00:00, 932.76query/s]                         \n",
      "Downloading: 100%|██████████| 24/24 [00:01<00:00, 17.48rows/s]\n"
     ]
    }
   ],
   "source": [
    "%%bigquery bikes_avail_at_station_50\n",
    "\n",
    "select round(bikes_availability, 2) as bikes, hour from (\n",
    "select avg(bikes_available) as bikes_availability, hour, from (\n",
    "select bikes_available, station_id,\n",
    "EXTRACT(HOUR from time) as hour,\n",
    "EXTRACT(DAYOFWEEK from time) as dow\n",
    "from `bigquery-public-data.san_francisco.bikeshare_status`)t\n",
    "where station_id=50\n",
    "and (not dow = 1 and not dow=7)\n",
    "group by hour\n",
    "order by hour);"
   ]
  },
  {
   "cell_type": "code",
   "execution_count": 78,
   "id": "29327b0b",
   "metadata": {},
   "outputs": [
    {
     "data": {
      "text/plain": [
       "Text(0.5, 1.0, 'Number of bikes available at station 50 by hour of day')"
      ]
     },
     "execution_count": 78,
     "metadata": {},
     "output_type": "execute_result"
    },
    {
     "data": {
      "image/png": "[encoded data removed]",
      "text/plain": [
       "<Figure size 432x288 with 1 Axes>"
      ]
     },
     "metadata": {
      "needs_background": "light"
     },
     "output_type": "display_data"
    }
   ],
   "source": [
    "plt.bar(bikes_avail_at_station_50['hour'], bikes_avail_at_station_50['bikes'])\n",
    "plt.xlabel('Hour of Day')\n",
    "plt.ylabel('Number of bikes available')\n",
    "plt.title('Number of bikes available at station 50 by hour of day')"
   ]
  },
  {
   "cell_type": "code",
   "execution_count": 79,
   "id": "dcd0dc6a",
   "metadata": {},
   "outputs": [
    {
     "name": "stderr",
     "output_type": "stream",
     "text": [
      "Query complete after 0.00s: 100%|██████████| 3/3 [00:00<00:00, 1049.10query/s]                        \n",
      "Downloading: 100%|██████████| 5/5 [00:01<00:00,  4.27rows/s]\n"
     ]
    }
   ],
   "source": [
    "%%bigquery most_popular_stations_subscribers\n",
    "\n",
    "     select concat(start_station_id, ' - ', start_station_name) as start_station, count(start_station_id) as number_of_trips\n",
    "    from `bigquery-public-data.san_francisco.bikeshare_trips`\n",
    "    where subscriber_type='Subscriber'\n",
    "    group by start_station \n",
    "    order by number_of_trips desc limit 5;"
   ]
  },
  {
   "cell_type": "code",
   "execution_count": 80,
   "id": "e22735dc",
   "metadata": {},
   "outputs": [
    {
     "name": "stderr",
     "output_type": "stream",
     "text": [
      "Query complete after 0.00s: 100%|██████████| 3/3 [00:00<00:00, 1171.81query/s]                        \n",
      "Downloading: 100%|██████████| 5/5 [00:01<00:00,  4.03rows/s]\n"
     ]
    }
   ],
   "source": [
    "%%bigquery most_popular_stations_customers\n",
    "\n",
    "     select concat(start_station_id, ' - ', start_station_name) as start_station, count(start_station_id) as number_of_trips\n",
    "    from `bigquery-public-data.san_francisco.bikeshare_trips`\n",
    "    where subscriber_type='Customer'\n",
    "    group by start_station \n",
    "    order by number_of_trips desc limit 5;"
   ]
  },
  {
   "cell_type": "code",
   "execution_count": 84,
   "id": "66f9c763",
   "metadata": {},
   "outputs": [
    {
     "data": {
      "text/html": [
       "<div>\n",
       "<style scoped>\n",
       "    .dataframe tbody tr th:only-of-type {\n",
       "        vertical-align: middle;\n",
       "    }\n",
       "\n",
       "    .dataframe tbody tr th {\n",
       "        vertical-align: top;\n",
       "    }\n",
       "\n",
       "    .dataframe thead th {\n",
       "        text-align: right;\n",
       "    }\n",
       "</style>\n",
       "<table border=\"1\" class=\"dataframe\">\n",
       "  <thead>\n",
       "    <tr style=\"text-align: right;\">\n",
       "      <th></th>\n",
       "      <th>start_station</th>\n",
       "      <th>number_of_trips</th>\n",
       "    </tr>\n",
       "  </thead>\n",
       "  <tbody>\n",
       "    <tr>\n",
       "      <th>0</th>\n",
       "      <td>70 - San Francisco Caltrain (Townsend at 4th)</td>\n",
       "      <td>68384</td>\n",
       "    </tr>\n",
       "    <tr>\n",
       "      <th>1</th>\n",
       "      <td>69 - San Francisco Caltrain 2 (330 Townsend)</td>\n",
       "      <td>53694</td>\n",
       "    </tr>\n",
       "    <tr>\n",
       "      <th>2</th>\n",
       "      <td>55 - Temporary Transbay Terminal (Howard at Beale)</td>\n",
       "      <td>37888</td>\n",
       "    </tr>\n",
       "    <tr>\n",
       "      <th>3</th>\n",
       "      <td>50 - Harry Bridges Plaza (Ferry Building)</td>\n",
       "      <td>36621</td>\n",
       "    </tr>\n",
       "    <tr>\n",
       "      <th>4</th>\n",
       "      <td>61 - 2nd at Townsend</td>\n",
       "      <td>35500</td>\n",
       "    </tr>\n",
       "  </tbody>\n",
       "</table>\n",
       "</div>"
      ],
      "text/plain": [
       "                                        start_station  number_of_trips\n",
       "0       70 - San Francisco Caltrain (Townsend at 4th)            68384\n",
       "1        69 - San Francisco Caltrain 2 (330 Townsend)            53694\n",
       "2  55 - Temporary Transbay Terminal (Howard at Beale)            37888\n",
       "3           50 - Harry Bridges Plaza (Ferry Building)            36621\n",
       "4                                61 - 2nd at Townsend            35500"
      ]
     },
     "execution_count": 84,
     "metadata": {},
     "output_type": "execute_result"
    }
   ],
   "source": [
    "most_popular_stations_subscribers"
   ]
  },
  {
   "cell_type": "code",
   "execution_count": 85,
   "id": "f748a4f8",
   "metadata": {},
   "outputs": [
    {
     "data": {
      "text/html": [
       "<div>\n",
       "<style scoped>\n",
       "    .dataframe tbody tr th:only-of-type {\n",
       "        vertical-align: middle;\n",
       "    }\n",
       "\n",
       "    .dataframe tbody tr th {\n",
       "        vertical-align: top;\n",
       "    }\n",
       "\n",
       "    .dataframe thead th {\n",
       "        text-align: right;\n",
       "    }\n",
       "</style>\n",
       "<table border=\"1\" class=\"dataframe\">\n",
       "  <thead>\n",
       "    <tr style=\"text-align: right;\">\n",
       "      <th></th>\n",
       "      <th>start_station</th>\n",
       "      <th>number_of_trips</th>\n",
       "    </tr>\n",
       "  </thead>\n",
       "  <tbody>\n",
       "    <tr>\n",
       "      <th>0</th>\n",
       "      <td>60 - Embarcadero at Sansome</td>\n",
       "      <td>13934</td>\n",
       "    </tr>\n",
       "    <tr>\n",
       "      <th>1</th>\n",
       "      <td>50 - Harry Bridges Plaza (Ferry Building)</td>\n",
       "      <td>12441</td>\n",
       "    </tr>\n",
       "    <tr>\n",
       "      <th>2</th>\n",
       "      <td>76 - Market at 4th</td>\n",
       "      <td>5952</td>\n",
       "    </tr>\n",
       "    <tr>\n",
       "      <th>3</th>\n",
       "      <td>39 - Powell Street BART</td>\n",
       "      <td>5214</td>\n",
       "    </tr>\n",
       "    <tr>\n",
       "      <th>4</th>\n",
       "      <td>48 - Embarcadero at Vallejo</td>\n",
       "      <td>4945</td>\n",
       "    </tr>\n",
       "  </tbody>\n",
       "</table>\n",
       "</div>"
      ],
      "text/plain": [
       "                               start_station  number_of_trips\n",
       "0                60 - Embarcadero at Sansome            13934\n",
       "1  50 - Harry Bridges Plaza (Ferry Building)            12441\n",
       "2                         76 - Market at 4th             5952\n",
       "3                    39 - Powell Street BART             5214\n",
       "4                48 - Embarcadero at Vallejo             4945"
      ]
     },
     "execution_count": 85,
     "metadata": {},
     "output_type": "execute_result"
    }
   ],
   "source": [
    "most_popular_stations_customers"
   ]
  },
  {
   "cell_type": "code",
   "execution_count": 86,
   "id": "9a1909a4",
   "metadata": {},
   "outputs": [
    {
     "data": {
      "text/html": [
       "<style>\n",
       "    table {\n",
       "        display: inline-block\n",
       "    }\n",
       "</style>\n"
      ],
      "text/plain": [
       "<IPython.core.display.HTML object>"
      ]
     },
     "metadata": {},
     "output_type": "display_data"
    }
   ],
   "source": [
    "%%html\n",
    "<style>\n",
    "    table {\n",
    "        display: inline-block\n",
    "    }\n",
    "</style>\n"
   ]
  },
  {
   "cell_type": "markdown",
   "id": "ca54f7cb",
   "metadata": {},
   "source": [
    "### Project Questions\n",
    "\n",
    "1. What are the 5 most popular trips that you would call \"commuter trips\"?\n",
    "\n",
    "    Answer: Commuter trip is defined as a trip on a weekday that starts and ends between 6 AM and 10 AM or between 4 PM and 7 PM and has different start and end stations. The 5 most popular commuter trips are between the station pairs in the following table.\n",
    "\n",
    "\n",
    "\n",
    "      | number_of_trips    | station_pair                                                                             |\n",
    "      | ------------------ | ---------------------------------------------------------------------------------------- |\n",
    "      | 6252               | 69-65 (San Francisco Caltrain 2 (330 Townsend) -> Townsend at 7th)                       |\n",
    "      | 5608               | 50-61 (Harry Bridges Plaza (Ferry Building) -> 2nd at Townsend)                          |\n",
    "      | 5421               | 61-50 (2nd at Townsend -> Harry Bridges Plaza (Ferry Building))                          |\n",
    "      | 5186               | 60-74 (Embarcadero at Sansome -> Steuart at Market)                                      |\n",
    "      | 5150               | 70-50 (San Francisco Caltrain (Townsend at 4th) -> Harry Bridges Plaza (Ferry Building)) |\n",
    "      \n",
    "      \n",
    "2. What are you recommendation for offers?\n",
    "\n",
    "    Answer: Some recommendations I have for offers are\n",
    "        1. It looks like a significant number of trips during commute hours are done by non subscribing customers as found in the following table. Some of these might be commute trips and there could be potential to convert these customers to subscribing members. A free month of subscription could be diven to these customers after they make 2 or 3 commuting trips in a span of a few days.\n",
    "        \n",
    "        \n",
    "        \n",
    "      | count_sub | subscriber_type |\n",
    "      | --------- | --------------- |\n",
    "      | 601275    | Subscriber      |\n",
    "      | 31446     | Customer        |\n",
    "      \n",
    "        2. From the scatter plot above, between number of trips and trip duration, there are some stations from which trips taken are much longer than average. These might be stations where tourists/sightseers might be renting the bikes. One good offer might be to provide better/upgraded bikes at stations where the average trip duration is more than 30 mins.\n",
    "        \n",
    "        3. From the bar plot of number of trips vs month, we can see that the number of trips fall during the colder winter months. Some of this reduction in trips might be due to the holidays in Nov and Dec, but there is still a noticable reduction in other winter months as well. Lowering prices might incentivize customers to make use of the bike share more in these months. Providing jackets for these trips through the bike docks might be an option.\n",
    "        \n",
    "        4. From the bar plot above of bikes available at station 50 (Harry Bridges Plaza (Ferry Building)), which was identified as a popular station for commuters, we see that the bikes available on average never goes to 0. This means that it might be possible to move bikes out of this station and similar popular stations. It might also be possible incetivise more bike usage by offering sliding prices based on the number of bikes available, with trips being cheaper when a large number of bikes are availabe at such a station.\n",
    "        \n",
    "        5. From the tables looking at most popular stations for subscribers and for customers, we see that different stations are popular between subscribers and customers. There might be potential to convert customers to subscribing members through targeted adevertising of offers at the\n"
   ]
  }
 ],
 "metadata": {
  "environment": {
   "name": "tf2-gpu.2-3.m78",
   "type": "gcloud",
   "uri": "gcr.io/deeplearning-platform-release/tf2-gpu.2-3:m78"
  },
  "kernelspec": {
   "display_name": "Python 3",
   "language": "python",
   "name": "python3"
  },
  "language_info": {
   "codemirror_mode": {
    "name": "ipython",
    "version": 3
   },
   "file_extension": ".py",
   "mimetype": "text/x-python",
   "name": "python",
   "nbconvert_exporter": "python",
   "pygments_lexer": "ipython3",
   "version": "3.7.10"
  }
 },
 "nbformat": 4,
 "nbformat_minor": 5
}
